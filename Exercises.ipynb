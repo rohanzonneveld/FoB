{
 "cells": [
  {
   "cell_type": "code",
   "execution_count": 4,
   "metadata": {},
   "outputs": [],
   "source": [
    "import pandas as pd"
   ]
  },
  {
   "attachments": {},
   "cell_type": "markdown",
   "metadata": {},
   "source": [
    "## Exercise 1"
   ]
  },
  {
   "cell_type": "code",
   "execution_count": 5,
   "metadata": {},
   "outputs": [],
   "source": [
    "# read tsv file\n",
    "benchmark = pd.read_csv('data/HGVS_2014_benchmark.tsv', sep='\\t')\n",
    "polyphen_scores = pd.read_csv('data/vep/HGVS_2014_polyphen_scores.tsv', sep='\\t')\n",
    "sift_scores = pd.read_csv('data/vep/HGVS_2014_sift_scores.tsv', sep='\\t')\n",
    "baseline = pd.read_csv('data/vep/HGVS_2014_VEP_baseline.tsv', sep='\\t')"
   ]
  },
  {
   "cell_type": "code",
   "execution_count": 7,
   "metadata": {},
   "outputs": [
    {
     "name": "stdout",
     "output_type": "stream",
     "text": [
      "The number of polyphen scores is: 400\n",
      "The number of sift scores is: 400\n",
      "The number of baseline scores is: 400\n"
     ]
    }
   ],
   "source": [
    "# number of ids in each dataset\n",
    "print(f\"The number of polyphen scores is: {polyphen_scores['# ID'].count()}\")\n",
    "print(f\"The number of sift scores is: {sift_scores['# ID'].count()}\")\n",
    "print(f\"The number of baseline scores is: {baseline['# ID'].count()}\")"
   ]
  },
  {
   "cell_type": "code",
   "execution_count": 12,
   "metadata": {},
   "outputs": [
    {
     "name": "stdout",
     "output_type": "stream",
     "text": [
      "The number of values in the benchmark dataset for each label is: \n",
      " Pathogenic    1491\n",
      "Benign        1491\n",
      "Name: Label, dtype: int64\n"
     ]
    }
   ],
   "source": [
    "# Balanced dataset?\n",
    "print(f\"The number of values in the benchmark dataset for each label is: \\n {benchmark['Label'].value_counts()}\")"
   ]
  },
  {
   "cell_type": "code",
   "execution_count": 11,
   "metadata": {},
   "outputs": [
    {
     "data": {
      "text/plain": [
       "Series([], Name: # ID, dtype: object)"
      ]
     },
     "execution_count": 11,
     "metadata": {},
     "output_type": "execute_result"
    }
   ],
   "source": [
    "# find specific id in polyphen_scores\n",
    "polyphen_scores['# ID'].loc[polyphen_scores['# ID'] == 'NC_000001.11:g.224424520A>C']"
   ]
  }
 ],
 "metadata": {
  "kernelspec": {
   "display_name": "Python 3",
   "language": "python",
   "name": "python3"
  },
  "language_info": {
   "codemirror_mode": {
    "name": "ipython",
    "version": 3
   },
   "file_extension": ".py",
   "mimetype": "text/x-python",
   "name": "python",
   "nbconvert_exporter": "python",
   "pygments_lexer": "ipython3",
   "version": "3.10.7"
  },
  "orig_nbformat": 4
 },
 "nbformat": 4,
 "nbformat_minor": 2
}
